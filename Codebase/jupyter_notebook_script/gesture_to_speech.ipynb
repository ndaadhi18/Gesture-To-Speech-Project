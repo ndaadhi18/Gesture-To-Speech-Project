{
 "cells": [
  {
   "cell_type": "code",
   "execution_count": 1,
   "id": "fc6b218b-ab30-48d7-8e5a-4fd4e46cb957",
   "metadata": {},
   "outputs": [],
   "source": [
    "import os\n",
    "import numpy as np\n",
    "import cv2\n",
    "import matplotlib.pyplot as plt\n",
    "import mediapipe as mp\n",
    "import torch\n",
    "import torch.nn as nn\n",
    "import torch.optim as optim\n",
    "from torch.utils.data import Dataset, DataLoader\n",
    "from gtts import gTTS\n",
    "import IPython.display as ipd\n",
    "from tqdm import tqdm\n",
    "import pandas as pd\n"
   ]
  },
  {
   "cell_type": "code",
   "execution_count": 2,
   "id": "80745fc5-be70-462f-bf73-54eda9e82699",
   "metadata": {},
   "outputs": [],
   "source": [
    "def extract_hand_landmarks(image_path):\n",
    "    mp_hands = mp.solutions.hands\n",
    "    hands = mp_hands.Hands(static_image_mode=True, max_num_hands=1)\n",
    "    image = cv2.imread(image_path)\n",
    "    if image is None:\n",
    "        print(f\"Error loading image: {image_path}\")\n",
    "        return None\n",
    "    image_rgb = cv2.cvtColor(image, cv2.COLOR_BGR2RGB)\n",
    "    results = hands.process(image_rgb)\n",
    "    hands.close()\n",
    "    if results.multi_hand_landmarks:\n",
    "        landmarks = []\n",
    "        for lm in results.multi_hand_landmarks[0].landmark:\n",
    "            landmarks.extend([lm.x, lm.y, lm.z])\n",
    "        return np.array(landmarks)\n",
    "    else:\n",
    "        return None\n"
   ]
  },
  {
   "cell_type": "code",
   "execution_count": 3,
   "id": "e634471d-7ad8-4a6c-8b1e-207089beddbb",
   "metadata": {},
   "outputs": [],
   "source": [
    "import glob\n",
    "\n",
    "def process_dataset(dataset_root):\n",
    "    features = []\n",
    "    labels = []\n",
    "    class_names = sorted(os.listdir(dataset_root))\n",
    "    class_to_idx = {cls_name: idx for idx, cls_name in enumerate(class_names)}\n",
    "    print(\"Class mapping:\", class_to_idx)\n",
    "    \n",
    "    for cls_name in class_names:\n",
    "        cls_folder = os.path.join(dataset_root, cls_name)\n",
    "        image_paths = glob.glob(os.path.join(cls_folder, \"*.jpg\"))\n",
    "        print(f\"Processing {cls_name} ({len(image_paths)} images)\")\n",
    "        success_count = 0\n",
    "        fail_count = 0\n",
    "        for img_path in tqdm(image_paths):\n",
    "            lm = extract_hand_landmarks(img_path)\n",
    "            if lm is not None:\n",
    "                features.append(lm)\n",
    "                labels.append(class_to_idx[cls_name])\n",
    "                success_count += 1\n",
    "            else:\n",
    "                fail_count += 1\n",
    "                if fail_count < 5:  # Print first few failures\n",
    "                    print(f\"Failed to detect hand in: {img_path}\")\n",
    "        print(f\"Success: {success_count}, Failed: {fail_count}\")\n",
    "    \n",
    "    features = np.array(features)\n",
    "    labels = np.array(labels)\n",
    "    print(f\"Total samples: {features.shape[0]}\")\n",
    "    # Save features and labels\n",
    "    np.save(os.path.join(dataset_root, \"features.npy\"), features)\n",
    "    np.save(os.path.join(dataset_root, \"labels.npy\"), labels)\n",
    "    print(\"Saved features and labels as .npy files.\")\n",
    "    return class_to_idx\n",
    "   \n",
    "\n",
    "\n",
    "\n",
    "\n"
   ]
  },
  {
   "cell_type": "code",
   "execution_count": 28,
   "id": "d257e3bd-5cc0-4a7d-b881-f1c7ac942fdf",
   "metadata": {},
   "outputs": [
    {
     "name": "stdout",
     "output_type": "stream",
     "text": [
      "Class mapping: {'0': 0, '1': 1, '2': 2, '3': 3, '4': 4, '5': 5, '6': 6, '7': 7, '8': 8, '9': 9}\n",
      "Processing 0 (1501 images)\n"
     ]
    },
    {
     "name": "stderr",
     "output_type": "stream",
     "text": [
      "  1%|          | 8/1501 [00:00<01:36, 15.43it/s]"
     ]
    },
    {
     "name": "stdout",
     "output_type": "stream",
     "text": [
      "Failed to detect hand in: ../data/indian_sign_language/Indian\\0\\1000.jpg\n",
      "Failed to detect hand in: ../data/indian_sign_language/Indian\\0\\1001.jpg\n",
      "Failed to detect hand in: ../data/indian_sign_language/Indian\\0\\1002.jpg\n"
     ]
    },
    {
     "name": "stderr",
     "output_type": "stream",
     "text": [
      "  1%|          | 14/1501 [00:00<01:40, 14.81it/s]"
     ]
    },
    {
     "name": "stdout",
     "output_type": "stream",
     "text": [
      "Failed to detect hand in: ../data/indian_sign_language/Indian\\0\\1006.jpg\n"
     ]
    },
    {
     "name": "stderr",
     "output_type": "stream",
     "text": [
      "100%|██████████| 1501/1501 [01:41<00:00, 14.77it/s]\n"
     ]
    },
    {
     "name": "stdout",
     "output_type": "stream",
     "text": [
      "Success: 1275, Failed: 226\n",
      "Processing 1 (1504 images)\n"
     ]
    },
    {
     "name": "stderr",
     "output_type": "stream",
     "text": [
      " 40%|████      | 604/1504 [00:39<00:59, 15.18it/s]"
     ]
    },
    {
     "name": "stdout",
     "output_type": "stream",
     "text": [
      "Failed to detect hand in: ../data/indian_sign_language/Indian\\1\\187.jpg\n",
      "Failed to detect hand in: ../data/indian_sign_language/Indian\\1\\188.jpg\n"
     ]
    },
    {
     "name": "stderr",
     "output_type": "stream",
     "text": [
      " 41%|████▏     | 622/1504 [00:40<00:59, 14.93it/s]"
     ]
    },
    {
     "name": "stdout",
     "output_type": "stream",
     "text": [
      "Failed to detect hand in: ../data/indian_sign_language/Indian\\1\\201.jpg\n",
      "Failed to detect hand in: ../data/indian_sign_language/Indian\\1\\204.jpg\n"
     ]
    },
    {
     "name": "stderr",
     "output_type": "stream",
     "text": [
      "100%|██████████| 1504/1504 [01:39<00:00, 15.05it/s]\n"
     ]
    },
    {
     "name": "stdout",
     "output_type": "stream",
     "text": [
      "Success: 1437, Failed: 67\n",
      "Processing 2 (1502 images)\n"
     ]
    },
    {
     "name": "stderr",
     "output_type": "stream",
     "text": [
      "  6%|▋         | 96/1502 [00:06<01:33, 15.03it/s]"
     ]
    },
    {
     "name": "stdout",
     "output_type": "stream",
     "text": [
      "Failed to detect hand in: ../data/indian_sign_language/Indian\\2\\1082.jpg\n"
     ]
    },
    {
     "name": "stderr",
     "output_type": "stream",
     "text": [
      " 15%|█▌        | 228/1502 [00:15<01:23, 15.31it/s]"
     ]
    },
    {
     "name": "stdout",
     "output_type": "stream",
     "text": [
      "Failed to detect hand in: ../data/indian_sign_language/Indian\\2\\120.jpg\n"
     ]
    },
    {
     "name": "stderr",
     "output_type": "stream",
     "text": [
      " 24%|██▍       | 358/1502 [00:23<01:12, 15.84it/s]"
     ]
    },
    {
     "name": "stdout",
     "output_type": "stream",
     "text": [
      "Failed to detect hand in: ../data/indian_sign_language/Indian\\2\\1318.jpg\n"
     ]
    },
    {
     "name": "stderr",
     "output_type": "stream",
     "text": [
      " 37%|███▋      | 560/1502 [00:37<01:05, 14.29it/s]"
     ]
    },
    {
     "name": "stdout",
     "output_type": "stream",
     "text": [
      "Failed to detect hand in: ../data/indian_sign_language/Indian\\2\\15.jpg\n"
     ]
    },
    {
     "name": "stderr",
     "output_type": "stream",
     "text": [
      "100%|██████████| 1502/1502 [01:38<00:00, 15.21it/s]\n"
     ]
    },
    {
     "name": "stdout",
     "output_type": "stream",
     "text": [
      "Success: 1495, Failed: 7\n",
      "Processing 3 (1502 images)\n"
     ]
    },
    {
     "name": "stderr",
     "output_type": "stream",
     "text": [
      "  2%|▏         | 26/1502 [00:01<01:25, 17.22it/s]"
     ]
    },
    {
     "name": "stdout",
     "output_type": "stream",
     "text": [
      "Failed to detect hand in: ../data/indian_sign_language/Indian\\3\\1019.jpg\n",
      "Failed to detect hand in: ../data/indian_sign_language/Indian\\3\\1020.jpg\n",
      "Failed to detect hand in: ../data/indian_sign_language/Indian\\3\\1021.jpg\n"
     ]
    },
    {
     "name": "stderr",
     "output_type": "stream",
     "text": [
      "  2%|▏         | 33/1502 [00:01<01:25, 17.13it/s]"
     ]
    },
    {
     "name": "stdout",
     "output_type": "stream",
     "text": [
      "Failed to detect hand in: ../data/indian_sign_language/Indian\\3\\1024.jpg\n"
     ]
    },
    {
     "name": "stderr",
     "output_type": "stream",
     "text": [
      "100%|██████████| 1502/1502 [01:28<00:00, 16.91it/s]\n"
     ]
    },
    {
     "name": "stdout",
     "output_type": "stream",
     "text": [
      "Success: 1278, Failed: 224\n",
      "Processing 4 (1505 images)\n"
     ]
    },
    {
     "name": "stderr",
     "output_type": "stream",
     "text": [
      " 11%|█         | 167/1505 [00:10<01:13, 18.32it/s]"
     ]
    },
    {
     "name": "stdout",
     "output_type": "stream",
     "text": [
      "Failed to detect hand in: ../data/indian_sign_language/Indian\\4\\1144.jpg\n",
      "Failed to detect hand in: ../data/indian_sign_language/Indian\\4\\1145.jpg\n",
      "Failed to detect hand in: ../data/indian_sign_language/Indian\\4\\1146.jpg\n",
      "Failed to detect hand in: ../data/indian_sign_language/Indian\\4\\1147.jpg\n"
     ]
    },
    {
     "name": "stderr",
     "output_type": "stream",
     "text": [
      "100%|██████████| 1505/1505 [01:30<00:00, 16.67it/s]\n"
     ]
    },
    {
     "name": "stdout",
     "output_type": "stream",
     "text": [
      "Success: 1476, Failed: 29\n",
      "Processing 5 (1502 images)\n"
     ]
    },
    {
     "name": "stderr",
     "output_type": "stream",
     "text": [
      "  3%|▎         | 48/1502 [00:02<01:25, 17.07it/s]"
     ]
    },
    {
     "name": "stdout",
     "output_type": "stream",
     "text": [
      "Failed to detect hand in: ../data/indian_sign_language/Indian\\5\\1037.jpg\n",
      "Failed to detect hand in: ../data/indian_sign_language/Indian\\5\\1038.jpg\n"
     ]
    },
    {
     "name": "stderr",
     "output_type": "stream",
     "text": [
      "  5%|▌         | 77/1502 [00:04<01:17, 18.29it/s]"
     ]
    },
    {
     "name": "stdout",
     "output_type": "stream",
     "text": [
      "Failed to detect hand in: ../data/indian_sign_language/Indian\\5\\1062.jpg\n",
      "Failed to detect hand in: ../data/indian_sign_language/Indian\\5\\1063.jpg\n"
     ]
    },
    {
     "name": "stderr",
     "output_type": "stream",
     "text": [
      "100%|██████████| 1502/1502 [01:28<00:00, 16.94it/s]\n"
     ]
    },
    {
     "name": "stdout",
     "output_type": "stream",
     "text": [
      "Success: 1354, Failed: 148\n",
      "Processing 6 (1507 images)\n"
     ]
    },
    {
     "name": "stderr",
     "output_type": "stream",
     "text": [
      "  1%|▏         | 20/1507 [00:01<01:24, 17.49it/s]"
     ]
    },
    {
     "name": "stdout",
     "output_type": "stream",
     "text": [
      "Failed to detect hand in: ../data/indian_sign_language/Indian\\6\\1013.jpg\n",
      "Failed to detect hand in: ../data/indian_sign_language/Indian\\6\\1014.jpg\n",
      "Failed to detect hand in: ../data/indian_sign_language/Indian\\6\\1015.jpg\n",
      "Failed to detect hand in: ../data/indian_sign_language/Indian\\6\\1016.jpg\n"
     ]
    },
    {
     "name": "stderr",
     "output_type": "stream",
     "text": [
      "100%|██████████| 1507/1507 [01:28<00:00, 17.12it/s]\n"
     ]
    },
    {
     "name": "stdout",
     "output_type": "stream",
     "text": [
      "Success: 1307, Failed: 200\n",
      "Processing 7 (1601 images)\n"
     ]
    },
    {
     "name": "stderr",
     "output_type": "stream",
     "text": [
      "  0%|          | 2/1601 [00:00<01:27, 18.23it/s]"
     ]
    },
    {
     "name": "stdout",
     "output_type": "stream",
     "text": [
      "Failed to detect hand in: ../data/indian_sign_language/Indian\\7\\0.jpg\n",
      "Failed to detect hand in: ../data/indian_sign_language/Indian\\7\\10.jpg\n",
      "Failed to detect hand in: ../data/indian_sign_language/Indian\\7\\100.jpg\n"
     ]
    },
    {
     "name": "stderr",
     "output_type": "stream",
     "text": [
      "  0%|          | 5/1601 [00:00<01:21, 19.59it/s]"
     ]
    },
    {
     "name": "stdout",
     "output_type": "stream",
     "text": [
      "Failed to detect hand in: ../data/indian_sign_language/Indian\\7\\1000.jpg\n"
     ]
    },
    {
     "name": "stderr",
     "output_type": "stream",
     "text": [
      "100%|██████████| 1601/1601 [01:23<00:00, 19.17it/s]\n"
     ]
    },
    {
     "name": "stdout",
     "output_type": "stream",
     "text": [
      "Success: 491, Failed: 1110\n",
      "Processing 8 (1500 images)\n"
     ]
    },
    {
     "name": "stderr",
     "output_type": "stream",
     "text": [
      "100%|██████████| 1500/1500 [01:30<00:00, 16.62it/s]\n"
     ]
    },
    {
     "name": "stdout",
     "output_type": "stream",
     "text": [
      "Success: 1500, Failed: 0\n",
      "Processing 9 (1501 images)\n"
     ]
    },
    {
     "name": "stderr",
     "output_type": "stream",
     "text": [
      "100%|██████████| 1501/1501 [01:30<00:00, 16.64it/s]"
     ]
    },
    {
     "name": "stdout",
     "output_type": "stream",
     "text": [
      "Success: 1501, Failed: 0\n",
      "Total samples: 13114\n",
      "Saved features and labels as .npy files.\n"
     ]
    },
    {
     "name": "stderr",
     "output_type": "stream",
     "text": [
      "\n"
     ]
    }
   ],
   "source": [
    "# Example usage for Indian Sign Language dataset: Already done\n",
    "dataset_root = \"../data/indian_sign_language/Indian\"  # Adjust path if needed\n",
    "class_to_idx = process_dataset(dataset_root)"
   ]
  },
  {
   "cell_type": "code",
   "execution_count": null,
   "id": "92dfd8de-d694-456d-b648-eabd6bea3f8a",
   "metadata": {},
   "outputs": [
    {
     "name": "stdout",
     "output_type": "stream",
     "text": [
      "Processing custom gestures dataset...\n",
      "Class mapping: {'Fist': 0, 'I Love You': 1, 'Perfect': 2, 'Stop': 3, 'Thumbs Down': 4, 'Thumbs Up': 5}\n",
      "Processing Fist (1504 images)\n"
     ]
    },
    {
     "name": "stderr",
     "output_type": "stream",
     "text": [
      " 30%|███       | 456/1504 [00:31<01:10, 14.82it/s]"
     ]
    },
    {
     "name": "stdout",
     "output_type": "stream",
     "text": [
      "Failed to detect hand in: ../data/gestures_dataset\\Fist\\1405.jpg\n"
     ]
    },
    {
     "name": "stderr",
     "output_type": "stream",
     "text": [
      " 59%|█████▉    | 890/1504 [01:01<00:37, 16.43it/s]"
     ]
    },
    {
     "name": "stdout",
     "output_type": "stream",
     "text": [
      "Failed to detect hand in: ../data/gestures_dataset\\Fist\\442.jpg\n",
      "Failed to detect hand in: ../data/gestures_dataset\\Fist\\443.jpg\n",
      "Failed to detect hand in: ../data/gestures_dataset\\Fist\\444.jpg\n"
     ]
    },
    {
     "name": "stderr",
     "output_type": "stream",
     "text": [
      "100%|██████████| 1504/1504 [01:42<00:00, 14.68it/s]\n"
     ]
    },
    {
     "name": "stdout",
     "output_type": "stream",
     "text": [
      "Success: 1489, Failed: 15\n",
      "Processing I Love You (3048 images)\n"
     ]
    },
    {
     "name": "stderr",
     "output_type": "stream",
     "text": [
      "100%|██████████| 3048/3048 [03:18<00:00, 15.32it/s]\n"
     ]
    },
    {
     "name": "stdout",
     "output_type": "stream",
     "text": [
      "Success: 3048, Failed: 0\n",
      "Processing Perfect (3039 images)\n"
     ]
    },
    {
     "name": "stderr",
     "output_type": "stream",
     "text": [
      "  8%|▊         | 240/3039 [00:15<02:56, 15.81it/s]"
     ]
    },
    {
     "name": "stdout",
     "output_type": "stream",
     "text": [
      "Failed to detect hand in: ../data/gestures_dataset\\Perfect\\121.jpg\n"
     ]
    },
    {
     "name": "stderr",
     "output_type": "stream",
     "text": [
      " 12%|█▏        | 350/3039 [00:23<02:59, 14.95it/s]"
     ]
    },
    {
     "name": "stdout",
     "output_type": "stream",
     "text": [
      "Failed to detect hand in: ../data/gestures_dataset\\Perfect\\1309.jpg\n"
     ]
    },
    {
     "name": "stderr",
     "output_type": "stream",
     "text": [
      " 34%|███▎      | 1022/3039 [01:07<02:02, 16.41it/s]"
     ]
    },
    {
     "name": "stdout",
     "output_type": "stream",
     "text": [
      "Failed to detect hand in: ../data/gestures_dataset\\Perfect\\1915.jpg\n",
      "Failed to detect hand in: ../data/gestures_dataset\\Perfect\\1916.jpg\n"
     ]
    },
    {
     "name": "stderr",
     "output_type": "stream",
     "text": [
      "100%|██████████| 3039/3039 [03:19<00:00, 15.25it/s]\n"
     ]
    },
    {
     "name": "stdout",
     "output_type": "stream",
     "text": [
      "Success: 2963, Failed: 76\n",
      "Processing Stop (1503 images)\n"
     ]
    },
    {
     "name": "stderr",
     "output_type": "stream",
     "text": [
      "  5%|▍         | 72/1503 [00:04<01:25, 16.78it/s]"
     ]
    },
    {
     "name": "stdout",
     "output_type": "stream",
     "text": [
      "Failed to detect hand in: ../data/gestures_dataset\\Stop\\1059.jpg\n",
      "Failed to detect hand in: ../data/gestures_dataset\\Stop\\1060.jpg\n",
      "Failed to detect hand in: ../data/gestures_dataset\\Stop\\1061.jpg\n"
     ]
    },
    {
     "name": "stderr",
     "output_type": "stream",
     "text": [
      "  5%|▌         | 76/1503 [00:04<01:24, 16.87it/s]"
     ]
    },
    {
     "name": "stdout",
     "output_type": "stream",
     "text": [
      "Failed to detect hand in: ../data/gestures_dataset\\Stop\\1062.jpg\n"
     ]
    },
    {
     "name": "stderr",
     "output_type": "stream",
     "text": [
      "100%|██████████| 1503/1503 [01:35<00:00, 15.79it/s]\n"
     ]
    },
    {
     "name": "stdout",
     "output_type": "stream",
     "text": [
      "Success: 1353, Failed: 150\n",
      "Processing Thumbs Down (3002 images)\n"
     ]
    },
    {
     "name": "stderr",
     "output_type": "stream",
     "text": [
      "100%|██████████| 3002/3002 [03:15<00:00, 15.35it/s]\n"
     ]
    },
    {
     "name": "stdout",
     "output_type": "stream",
     "text": [
      "Success: 3002, Failed: 0\n",
      "Processing Thumbs Up (3001 images)\n"
     ]
    },
    {
     "name": "stderr",
     "output_type": "stream",
     "text": [
      "  1%|          | 16/3001 [00:01<03:01, 16.45it/s]"
     ]
    },
    {
     "name": "stdout",
     "output_type": "stream",
     "text": [
      "Failed to detect hand in: ../data/gestures_dataset\\Thumbs Up\\1008.jpg\n",
      "Failed to detect hand in: ../data/gestures_dataset\\Thumbs Up\\1009.jpg\n",
      "Failed to detect hand in: ../data/gestures_dataset\\Thumbs Up\\1010.jpg\n"
     ]
    },
    {
     "name": "stderr",
     "output_type": "stream",
     "text": [
      "  1%|          | 20/3001 [00:01<03:03, 16.26it/s]"
     ]
    },
    {
     "name": "stdout",
     "output_type": "stream",
     "text": [
      "Failed to detect hand in: ../data/gestures_dataset\\Thumbs Up\\1011.jpg\n"
     ]
    },
    {
     "name": "stderr",
     "output_type": "stream",
     "text": [
      "100%|██████████| 3001/3001 [04:17<00:00, 11.65it/s]"
     ]
    },
    {
     "name": "stdout",
     "output_type": "stream",
     "text": [
      "Success: 2833, Failed: 168\n",
      "Total samples: 14688\n",
      "Saved features and labels as .npy files.\n"
     ]
    },
    {
     "name": "stderr",
     "output_type": "stream",
     "text": [
      "\n"
     ]
    }
   ],
   "source": [
    "# Process the gestures_dataset folder already done\n",
    "gestures_dataset_root = \"../data/gestures_dataset\"  # Adjust path if needed\n",
    "print(\"Processing custom gestures dataset...\")\n",
    "gestures_class_to_idx = process_dataset(gestures_dataset_root)\n"
   ]
  },
  {
   "cell_type": "code",
   "execution_count": 50,
   "id": "0f1a4a2c",
   "metadata": {},
   "outputs": [
    {
     "data": {
      "text/plain": [
       "{'Fist': 0,\n",
       " 'I Love You': 1,\n",
       " 'Perfect': 2,\n",
       " 'Stop': 3,\n",
       " 'Thumbs Down': 4,\n",
       " 'Thumbs Up': 5}"
      ]
     },
     "execution_count": 50,
     "metadata": {},
     "output_type": "execute_result"
    }
   ],
   "source": [
    "gestures_class_to_idx"
   ]
  },
  {
   "cell_type": "code",
   "execution_count": 51,
   "id": "cdca41b5",
   "metadata": {},
   "outputs": [
    {
     "data": {
      "text/plain": [
       "{'0': 0,\n",
       " '1': 1,\n",
       " '2': 2,\n",
       " '3': 3,\n",
       " '4': 4,\n",
       " '5': 5,\n",
       " '6': 6,\n",
       " '7': 7,\n",
       " '8': 8,\n",
       " '9': 9}"
      ]
     },
     "execution_count": 51,
     "metadata": {},
     "output_type": "execute_result"
    }
   ],
   "source": [
    "class_to_idx"
   ]
  },
  {
   "cell_type": "code",
   "execution_count": null,
   "id": "64c1e619",
   "metadata": {},
   "outputs": [],
   "source": [
    "os.makedirs(\"../checkpoints\", exist_ok=True)\n",
    "\n",
    "# You can also save any important variables\n",
    "import pickle\n",
    "with open(\"../checkpoints/variables.pkl\", \"wb\") as f:\n",
    "    pickle.dump({\n",
    "        \"class_to_idx\": class_to_idx,\n",
    "        \"gestures_class_to_idx\": gestures_class_to_idx\n",
    "        # Add any other variables you want to save\n",
    "    }, f)\n"
   ]
  },
  {
   "cell_type": "code",
   "execution_count": 5,
   "id": "4f920bec",
   "metadata": {},
   "outputs": [
    {
     "name": "stdout",
     "output_type": "stream",
     "text": [
      "Previous session state restored successfully!\n",
      "Indian Sign Language classes: 10\n",
      "Custom Gestures classes: 6\n",
      "Indian Sign Language processed data available: True\n",
      "Custom Gestures processed data available: True\n",
      "ISL Features shape: (5, 63)\n",
      "ISL Labels sample: [0 0 0 0 0]\n"
     ]
    }
   ],
   "source": [
    "import os\n",
    "import pickle\n",
    "import numpy as np\n",
    "import torch\n",
    "\n",
    "# Check if checkpoint exists and load it\n",
    "checkpoint_path = \"../checkpoints/variables.pkl\"\n",
    "if os.path.exists(checkpoint_path):\n",
    "    with open(checkpoint_path, \"rb\") as f:\n",
    "        checkpoint_data = pickle.load(f)\n",
    "    \n",
    "    # Restore variables\n",
    "    class_to_idx = checkpoint_data.get('class_to_idx')\n",
    "    gestures_class_to_idx = checkpoint_data.get('gestures_class_to_idx')\n",
    "    \n",
    "    print(\"Previous session state restored successfully!\")\n",
    "    print(f\"Indian Sign Language classes: {len(class_to_idx) if class_to_idx else 0}\")\n",
    "    print(f\"Custom Gestures classes: {len(gestures_class_to_idx) if gestures_class_to_idx else 0}\")\n",
    "else:\n",
    "    print(\"No checkpoint found. You'll need to rerun the preprocessing steps.\")\n",
    "\n",
    "\n",
    "isl_features_path = \"../data/indian_sign_language/Indian/features.npy\"\n",
    "isl_labels_path = \"../data/indian_sign_language/Indian/labels.npy\"\n",
    "gestures_features_path = \"../data/gestures_dataset/features.npy\"\n",
    "gestures_labels_path = \"../data/gestures_dataset/labels.npy\"\n",
    "\n",
    "# Check if files exist\n",
    "isl_data_exists = os.path.exists(isl_features_path) and os.path.exists(isl_labels_path)\n",
    "gestures_data_exists = os.path.exists(gestures_features_path) and os.path.exists(gestures_labels_path)\n",
    "\n",
    "print(f\"Indian Sign Language processed data available: {isl_data_exists}\")\n",
    "print(f\"Custom Gestures processed data available: {gestures_data_exists}\")\n",
    "\n",
    "\n",
    "if isl_data_exists:\n",
    "    # Load a small sample to verify data integrity\n",
    "    features_sample = np.load(isl_features_path)[:5]\n",
    "    labels_sample = np.load(isl_labels_path)[:5]\n",
    "    print(f\"ISL Features shape: {features_sample.shape}\")\n",
    "    print(f\"ISL Labels sample: {labels_sample}\")\n"
   ]
  },
  {
   "cell_type": "code",
   "execution_count": 26,
   "id": "4b0d4f2b",
   "metadata": {},
   "outputs": [
    {
     "data": {
      "text/plain": [
       "{'Fist': 0,\n",
       " 'I Love You': 1,\n",
       " 'Perfect': 2,\n",
       " 'Stop': 3,\n",
       " 'Thumbs Down': 4,\n",
       " 'Thumbs Up': 5}"
      ]
     },
     "execution_count": 26,
     "metadata": {},
     "output_type": "execute_result"
    }
   ],
   "source": [
    "gestures_class_to_idx"
   ]
  },
  {
   "cell_type": "code",
   "execution_count": 4,
   "id": "d6ccb4fa",
   "metadata": {},
   "outputs": [],
   "source": [
    "def combine_preprocessed_datasets():\n",
    "    # Load Indian Sign Language dataset\n",
    "    isl_features_path = \"../data/indian_sign_language/Indian/features.npy\"\n",
    "    isl_labels_path = \"../data/indian_sign_language/Indian/labels.npy\"\n",
    "    isl_features = np.load(isl_features_path)\n",
    "    isl_labels = np.load(isl_labels_path)\n",
    "    \n",
    "    # Load custom gestures dataset\n",
    "    gestures_features_path = \"../data/gestures_dataset/features.npy\"\n",
    "    gestures_labels_path = \"../data/gestures_dataset/labels.npy\"\n",
    "    gestures_features = np.load(gestures_features_path)\n",
    "    gestures_labels = np.load(gestures_labels_path)\n",
    "    \n",
    "    # Load class mappings\n",
    "    with open(\"../checkpoints/variables.pkl\", \"rb\") as f:\n",
    "        checkpoint_data = pickle.load(f)\n",
    "    \n",
    "    isl_class_to_idx = checkpoint_data['class_to_idx']\n",
    "    gestures_class_to_idx = checkpoint_data['gestures_class_to_idx']\n",
    "    \n",
    "    unified_class_to_idx = isl_class_to_idx.copy()\n",
    "    \n",
    "    \n",
    "    offset = len(isl_class_to_idx)\n",
    "    for gesture_class, idx in gestures_class_to_idx.items():\n",
    "        unified_class_to_idx[f\"gesture_{gesture_class}\"] = idx + offset\n",
    "    \n",
    "    \n",
    "    adjusted_gestures_labels = gestures_labels + offset\n",
    "    \n",
    "    \n",
    "    combined_features = np.vstack((isl_features, gestures_features))\n",
    "    combined_labels = np.concatenate((isl_labels, adjusted_gestures_labels))\n",
    "    \n",
    "    print(f\"ISL dataset: {len(isl_labels)} samples\")\n",
    "    print(f\"Gestures dataset: {len(gestures_labels)} samples\")\n",
    "    print(f\"Combined dataset: {len(combined_labels)} samples\")\n",
    "    print(f\"Total number of classes: {len(unified_class_to_idx)}\")\n",
    "    \n",
    "    \n",
    "    os.makedirs(\"../data/combined_dataset\", exist_ok=True)\n",
    "    np.save(\"../data/combined_dataset/features.npy\", combined_features)\n",
    "    np.save(\"../data/combined_dataset/labels.npy\", combined_labels)\n",
    "    \n",
    "   \n",
    "    with open(\"../data/combined_dataset/class_mapping.pkl\", \"wb\") as f:\n",
    "        pickle.dump(unified_class_to_idx, f)\n",
    "    \n",
    "    return combined_features, combined_labels, unified_class_to_idx\n"
   ]
  },
  {
   "cell_type": "code",
   "execution_count": null,
   "id": "4c6c26a9",
   "metadata": {},
   "outputs": [
    {
     "name": "stdout",
     "output_type": "stream",
     "text": [
      "ISL dataset: 13114 samples\n",
      "Gestures dataset: 14688 samples\n",
      "Combined dataset: 27802 samples\n",
      "Total number of classes: 16\n"
     ]
    }
   ],
   "source": [
    "combined_features, combined_labels, unified_class_to_idx = combine_preprocessed_datasets()"
   ]
  },
  {
   "cell_type": "code",
   "execution_count": null,
   "id": "6750538c",
   "metadata": {},
   "outputs": [],
   "source": [
    "# Create a directory for saving if it doesn't exist\n",
    "os.makedirs(\"../checkpoints\", exist_ok=True)\n",
    "\n",
    "\n",
    "import pickle\n",
    "with open(\"../checkpoints/variables.pkl\", \"wb\") as f:\n",
    "    pickle.dump({\n",
    "        \"class_to_idx\": class_to_idx,\n",
    "        \"gestures_class_to_idx\": gestures_class_to_idx,\n",
    "        \"unified_class_to_idx\":unified_class_to_idx\n",
    "        # Add any other variables you want to save\n",
    "    }, f)"
   ]
  },
  {
   "cell_type": "code",
   "execution_count": 5,
   "id": "c16a13d8",
   "metadata": {},
   "outputs": [
    {
     "name": "stdout",
     "output_type": "stream",
     "text": [
      "Previous session state restored successfully!\n",
      "Combined dataset classes: 16\n"
     ]
    }
   ],
   "source": [
    "import pickle\n",
    "checkpoint_path = \"../checkpoints/variables.pkl\"\n",
    "if os.path.exists(checkpoint_path):\n",
    "    with open(checkpoint_path, \"rb\") as f:\n",
    "        checkpoint_data = pickle.load(f)\n",
    "    \n",
    "    \n",
    "    unified_class_to_idx = checkpoint_data.get('unified_class_to_idx')\n",
    "    \n",
    "    print(\"Previous session state restored successfully!\")\n",
    "    print(f\"Combined dataset classes: {len(unified_class_to_idx) if unified_class_to_idx else 0}\")"
   ]
  },
  {
   "cell_type": "code",
   "execution_count": 6,
   "id": "f69f879b-0ab0-4cd6-aeb5-48c2f6f54073",
   "metadata": {},
   "outputs": [],
   "source": [
    "def reshape_landmarks_for_cnn(landmarks, grid_size=7):\n",
    "    x_coords = landmarks[0::3]  # x coordinates\n",
    "    y_coords = landmarks[1::3]  # y coordinates\n",
    "    z_coords = landmarks[2::3]  # z coordinates\n",
    "    \n",
    "    # Create a spatial representation by placing landmarks in a grid\n",
    "    x_channel = np.zeros((grid_size, grid_size))\n",
    "    y_channel = np.zeros((grid_size, grid_size))\n",
    "    z_channel = np.zeros((grid_size, grid_size))\n",
    "    \n",
    "    # Map the 21 landmarks to positions in the grid\n",
    "    for i in range(21):\n",
    "        x_idx = min(int(x_coords[i] * (grid_size-1)), grid_size-1)\n",
    "        y_idx = min(int(y_coords[i] * (grid_size-1)), grid_size-1)\n",
    "        \n",
    "        x_channel[y_idx, x_idx] = x_coords[i]\n",
    "        y_channel[y_idx, x_idx] = y_coords[i]\n",
    "        z_channel[y_idx, x_idx] = z_coords[i]\n",
    "    \n",
    "    grid_representation = np.stack([x_channel, y_channel, z_channel], axis=0)\n",
    "    return grid_representation\n",
    "\n"
   ]
  },
  {
   "cell_type": "code",
   "execution_count": 6,
   "id": "032b8a72-dd93-4e6f-8aa4-209bf87a3c45",
   "metadata": {},
   "outputs": [],
   "source": [
    "def preprocess_dataset_for_cnn(features_path, labels_path, grid_size=7):\n",
    "    features = np.load(features_path)\n",
    "    labels = np.load(labels_path)\n",
    "    \n",
    "    # Reshape all samples\n",
    "    X = np.zeros((len(features), 3, grid_size, grid_size))\n",
    "    for i in tqdm(range(len(features)), desc=\"Reshaping for CNN\"):\n",
    "        X[i] = reshape_landmarks_for_cnn(features[i], grid_size)\n",
    "    \n",
    "    return X, labels\n"
   ]
  },
  {
   "cell_type": "code",
   "execution_count": 9,
   "id": "34dfdf7d",
   "metadata": {},
   "outputs": [
    {
     "name": "stderr",
     "output_type": "stream",
     "text": [
      "Reshaping for CNN: 100%|██████████| 27802/27802 [00:00<00:00, 36383.92it/s]\n"
     ]
    }
   ],
   "source": [
    "features_path = \"../data/combined_dataset/features.npy\"\n",
    "labels_path = \"../data/combined_dataset/labels.npy\"\n",
    "grid_size = 7\n",
    "X, labels = preprocess_dataset_for_cnn(features_path, labels_path, grid_size)\n"
   ]
  },
  {
   "cell_type": "code",
   "execution_count": 10,
   "id": "f04ebe99",
   "metadata": {},
   "outputs": [
    {
     "data": {
      "text/plain": [
       "(27802,)"
      ]
     },
     "execution_count": 10,
     "metadata": {},
     "output_type": "execute_result"
    }
   ],
   "source": [
    "labels.shape"
   ]
  },
  {
   "cell_type": "code",
   "execution_count": 7,
   "id": "4f572148",
   "metadata": {},
   "outputs": [],
   "source": [
    "class GestureCNN(nn.Module):\n",
    "    def __init__(self, num_classes, grid_size=7):\n",
    "        super(GestureCNN, self).__init__()\n",
    "        \n",
    "        \n",
    "        self.conv_layers = nn.Sequential(\n",
    "            # First convolutional block\n",
    "            nn.Conv2d(in_channels=3, out_channels=16, kernel_size=3, padding=1),\n",
    "            nn.BatchNorm2d(16),\n",
    "            nn.ReLU(),\n",
    "            nn.MaxPool2d(kernel_size=2, stride=2),\n",
    "            \n",
    "            # Second convolutional block (reduced filters)\n",
    "            nn.Conv2d(in_channels=16, out_channels=32, kernel_size=3, padding=1),\n",
    "            nn.BatchNorm2d(32),\n",
    "            nn.ReLU(),\n",
    "            nn.MaxPool2d(kernel_size=2, stride=2)\n",
    "        )\n",
    "        \n",
    "        \n",
    "        conv_output_size = max(1, grid_size // (2**2))\n",
    "        \n",
    "        \n",
    "        self.fc_layers = nn.Sequential(\n",
    "            nn.Flatten(),\n",
    "            nn.Linear(32 * conv_output_size * conv_output_size, 64),  \n",
    "            nn.ReLU(),\n",
    "            nn.Dropout(0.2),  \n",
    "            nn.Linear(64, num_classes)\n",
    "        )\n",
    "    \n",
    "    def forward(self, x):\n",
    "        x = self.conv_layers(x)\n",
    "        x = self.fc_layers(x)\n",
    "        return x\n",
    "\n",
    "\n"
   ]
  },
  {
   "cell_type": "code",
   "execution_count": 8,
   "id": "86d45345",
   "metadata": {},
   "outputs": [
    {
     "name": "stdout",
     "output_type": "stream",
     "text": [
      "Model created with 16 output classes\n",
      "Using device: cuda\n",
      "GestureCNN(\n",
      "  (conv_layers): Sequential(\n",
      "    (0): Conv2d(3, 16, kernel_size=(3, 3), stride=(1, 1), padding=(1, 1))\n",
      "    (1): BatchNorm2d(16, eps=1e-05, momentum=0.1, affine=True, track_running_stats=True)\n",
      "    (2): ReLU()\n",
      "    (3): MaxPool2d(kernel_size=2, stride=2, padding=0, dilation=1, ceil_mode=False)\n",
      "    (4): Conv2d(16, 32, kernel_size=(3, 3), stride=(1, 1), padding=(1, 1))\n",
      "    (5): BatchNorm2d(32, eps=1e-05, momentum=0.1, affine=True, track_running_stats=True)\n",
      "    (6): ReLU()\n",
      "    (7): MaxPool2d(kernel_size=2, stride=2, padding=0, dilation=1, ceil_mode=False)\n",
      "  )\n",
      "  (fc_layers): Sequential(\n",
      "    (0): Flatten(start_dim=1, end_dim=-1)\n",
      "    (1): Linear(in_features=32, out_features=64, bias=True)\n",
      "    (2): ReLU()\n",
      "    (3): Dropout(p=0.2, inplace=False)\n",
      "    (4): Linear(in_features=64, out_features=16, bias=True)\n",
      "  )\n",
      ")\n"
     ]
    }
   ],
   "source": [
    "# Initialize the model\n",
    "num_classes = 16  \n",
    "grid_size = 7\n",
    "device = torch.device(\"cuda\" if torch.cuda.is_available() else \"cpu\")\n",
    "model = GestureCNN(num_classes=num_classes, grid_size=grid_size).to(device)\n",
    "\n",
    "# Define loss function and optimizer with regularization\n",
    "criterion = nn.CrossEntropyLoss()\n",
    "optimizer = optim.Adam(model.parameters(), lr=0.0001, weight_decay=1e-4)  # Added weight decay\n",
    "\n",
    "# Print model summary\n",
    "print(f\"Model created with {num_classes} output classes\")\n",
    "print(f\"Using device: {device}\")\n",
    "print(model)"
   ]
  },
  {
   "cell_type": "code",
   "execution_count": 26,
   "id": "c058d155",
   "metadata": {},
   "outputs": [
    {
     "data": {
      "text/plain": [
       "16"
      ]
     },
     "execution_count": 26,
     "metadata": {},
     "output_type": "execute_result"
    }
   ],
   "source": [
    "num_classes"
   ]
  },
  {
   "cell_type": "code",
   "execution_count": 9,
   "id": "d05d6c00",
   "metadata": {},
   "outputs": [
    {
     "ename": "NameError",
     "evalue": "name 'X' is not defined",
     "output_type": "error",
     "traceback": [
      "\u001b[1;31m---------------------------------------------------------------------------\u001b[0m",
      "\u001b[1;31mNameError\u001b[0m                                 Traceback (most recent call last)",
      "Cell \u001b[1;32mIn[9], line 23\u001b[0m\n\u001b[0;32m     17\u001b[0m         \u001b[38;5;28;01mreturn\u001b[39;00m torch\u001b[38;5;241m.\u001b[39mtensor(feature, dtype\u001b[38;5;241m=\u001b[39mtorch\u001b[38;5;241m.\u001b[39mfloat32), torch\u001b[38;5;241m.\u001b[39mtensor(label, dtype\u001b[38;5;241m=\u001b[39mtorch\u001b[38;5;241m.\u001b[39mlong)\n\u001b[0;32m     20\u001b[0m \u001b[38;5;28;01mfrom\u001b[39;00m\u001b[38;5;250m \u001b[39m\u001b[38;5;21;01msklearn\u001b[39;00m\u001b[38;5;21;01m.\u001b[39;00m\u001b[38;5;21;01mmodel_selection\u001b[39;00m\u001b[38;5;250m \u001b[39m\u001b[38;5;28;01mimport\u001b[39;00m train_test_split\n\u001b[1;32m---> 23\u001b[0m dataset \u001b[38;5;241m=\u001b[39m GestureDataset(\u001b[43mX\u001b[49m, labels)\n\u001b[0;32m     26\u001b[0m train_indices, val_indices \u001b[38;5;241m=\u001b[39m train_test_split(\n\u001b[0;32m     27\u001b[0m     \u001b[38;5;28mrange\u001b[39m(\u001b[38;5;28mlen\u001b[39m(dataset)),\n\u001b[0;32m     28\u001b[0m     test_size\u001b[38;5;241m=\u001b[39m\u001b[38;5;241m0.3\u001b[39m,  \u001b[38;5;66;03m# 30% for validation\u001b[39;00m\n\u001b[0;32m     29\u001b[0m     random_state\u001b[38;5;241m=\u001b[39m\u001b[38;5;241m42\u001b[39m\n\u001b[0;32m     30\u001b[0m )\n\u001b[0;32m     32\u001b[0m \u001b[38;5;28;01mfrom\u001b[39;00m\u001b[38;5;250m \u001b[39m\u001b[38;5;21;01mtorch\u001b[39;00m\u001b[38;5;21;01m.\u001b[39;00m\u001b[38;5;21;01mutils\u001b[39;00m\u001b[38;5;21;01m.\u001b[39;00m\u001b[38;5;21;01mdata\u001b[39;00m\u001b[38;5;21;01m.\u001b[39;00m\u001b[38;5;21;01msampler\u001b[39;00m\u001b[38;5;250m \u001b[39m\u001b[38;5;28;01mimport\u001b[39;00m SubsetRandomSampler\n",
      "\u001b[1;31mNameError\u001b[0m: name 'X' is not defined"
     ]
    }
   ],
   "source": [
    "\n",
    "class GestureDataset(Dataset):\n",
    "    def __init__(self, features, labels, transform=None):\n",
    "        self.features = features  # Already in shape (N, 3, grid_size, grid_size)\n",
    "        self.labels = labels\n",
    "        self.transform = transform\n",
    "        \n",
    "    def __len__(self):\n",
    "        return len(self.labels)\n",
    "    \n",
    "    def __getitem__(self, idx):\n",
    "        feature = self.features[idx]\n",
    "        label = self.labels[idx]\n",
    "        \n",
    "        if self.transform:\n",
    "            feature = self.transform(feature)\n",
    "            \n",
    "        return torch.tensor(feature, dtype=torch.float32), torch.tensor(label, dtype=torch.long)\n",
    "\n",
    "\n",
    "from sklearn.model_selection import train_test_split\n",
    "\n",
    "\n",
    "dataset = GestureDataset(X, labels)\n",
    "\n",
    "\n",
    "train_indices, val_indices = train_test_split(\n",
    "    range(len(dataset)),\n",
    "    test_size=0.3,  # 30% for validation\n",
    "    random_state=42\n",
    ")\n",
    "\n",
    "from torch.utils.data.sampler import SubsetRandomSampler\n",
    "train_sampler = SubsetRandomSampler(train_indices)\n",
    "val_sampler = SubsetRandomSampler(val_indices)\n",
    "\n",
    "\n",
    "batch_size = 16\n",
    "train_loader = DataLoader(dataset, batch_size=batch_size, sampler=train_sampler)\n",
    "val_loader = DataLoader(dataset, batch_size=batch_size, sampler=val_sampler)\n",
    "\n",
    "print(f\"Dataset size: {len(dataset)}\")\n",
    "print(f\"Training samples: {len(train_indices)}\")\n",
    "print(f\"Validation samples: {len(val_indices)}\")\n",
    "\n",
    "\n",
    "for features, labels in train_loader:\n",
    "    print(f\"Batch features shape: {features.shape}\")\n",
    "    print(f\"Batch labels shape: {labels.shape}\")\n",
    "    break\n"
   ]
  },
  {
   "cell_type": "code",
   "execution_count": 15,
   "id": "4163af29",
   "metadata": {},
   "outputs": [],
   "source": [
    "\n",
    "def train_model(model, train_loader, val_loader, criterion, optimizer, num_epochs=10):\n",
    "    best_val_acc = 0.0\n",
    "    best_model_wts = None\n",
    "    \n",
    "    # History for plotting\n",
    "    history = {\n",
    "        'train_loss': [], 'train_acc': [],\n",
    "        'val_loss': [], 'val_acc': []\n",
    "    }\n",
    "    \n",
    "    for epoch in range(num_epochs):\n",
    "        # Training phase\n",
    "        model.train()\n",
    "        running_loss = 0.0\n",
    "        correct = 0\n",
    "        total = 0\n",
    "        \n",
    "        for inputs, targets in tqdm(train_loader, desc=f\"Epoch {epoch+1}/{num_epochs} [Train]\"):\n",
    "            inputs, targets = inputs.to(device), targets.to(device)\n",
    "            \n",
    "            optimizer.zero_grad()\n",
    "            \n",
    "            outputs = model(inputs)\n",
    "            loss = criterion(outputs, targets)\n",
    "        \n",
    "            loss.backward()\n",
    "            optimizer.step()\n",
    "            \n",
    "            running_loss += loss.item() * inputs.size(0)\n",
    "            _, predicted = torch.max(outputs, 1)\n",
    "            total += targets.size(0)\n",
    "            correct += (predicted == targets).sum().item()\n",
    "        \n",
    "        epoch_loss = running_loss / total\n",
    "        epoch_acc = correct / total\n",
    "        history['train_loss'].append(epoch_loss)\n",
    "        history['train_acc'].append(epoch_acc)\n",
    "        \n",
    "        model.eval()\n",
    "        running_loss = 0.0\n",
    "        correct = 0\n",
    "        total = 0\n",
    "        \n",
    "        with torch.no_grad():\n",
    "            for inputs, targets in tqdm(val_loader, desc=f\"Epoch {epoch+1}/{num_epochs} [Val]\"):\n",
    "                inputs, targets = inputs.to(device), targets.to(device)\n",
    "                \n",
    "                # Forward pass\n",
    "                outputs = model(inputs)\n",
    "                loss = criterion(outputs, targets)\n",
    "                \n",
    "                running_loss += loss.item() * inputs.size(0)\n",
    "                _, predicted = torch.max(outputs, 1)\n",
    "                total += targets.size(0)\n",
    "                correct += (predicted == targets).sum().item()\n",
    "        \n",
    "        val_loss = running_loss / total\n",
    "        val_acc = correct / total\n",
    "        history['val_loss'].append(val_loss)\n",
    "        history['val_acc'].append(val_acc)\n",
    "        \n",
    "        print(f\"Epoch {epoch+1}/{num_epochs}: \"\n",
    "              f\"Train Loss: {epoch_loss:.4f}, Train Acc: {epoch_acc:.4f}, \"\n",
    "              f\"Val Loss: {val_loss:.4f}, Val Acc: {val_acc:.4f}\")\n",
    "        \n",
    "        if val_acc > best_val_acc:\n",
    "            best_val_acc = val_acc\n",
    "            best_model_wts = model.state_dict().copy()\n",
    "            print(f\"New best model with validation accuracy: {val_acc:.4f}\")\n",
    "    \n",
    "    # Load best model weights\n",
    "    model.load_state_dict(best_model_wts)\n",
    "    return model, history\n",
    "\n"
   ]
  },
  {
   "cell_type": "code",
   "execution_count": 18,
   "id": "7e716b37",
   "metadata": {},
   "outputs": [
    {
     "name": "stderr",
     "output_type": "stream",
     "text": [
      "Epoch 1/20 [Train]: 100%|██████████| 1217/1217 [00:05<00:00, 221.90it/s]\n",
      "Epoch 1/20 [Val]: 100%|██████████| 522/522 [00:00<00:00, 644.86it/s]\n"
     ]
    },
    {
     "name": "stdout",
     "output_type": "stream",
     "text": [
      "Epoch 1/20: Train Loss: 1.9521, Train Acc: 0.4310, Val Loss: 1.1453, Val Acc: 0.7390\n",
      "New best model with validation accuracy: 0.7390\n"
     ]
    },
    {
     "name": "stderr",
     "output_type": "stream",
     "text": [
      "Epoch 2/20 [Train]: 100%|██████████| 1217/1217 [00:04<00:00, 250.13it/s]\n",
      "Epoch 2/20 [Val]: 100%|██████████| 522/522 [00:00<00:00, 743.96it/s]\n"
     ]
    },
    {
     "name": "stdout",
     "output_type": "stream",
     "text": [
      "Epoch 2/20: Train Loss: 0.8656, Train Acc: 0.7727, Val Loss: 0.5097, Val Acc: 0.8688\n",
      "New best model with validation accuracy: 0.8688\n"
     ]
    },
    {
     "name": "stderr",
     "output_type": "stream",
     "text": [
      "Epoch 3/20 [Train]: 100%|██████████| 1217/1217 [00:04<00:00, 262.06it/s]\n",
      "Epoch 3/20 [Val]: 100%|██████████| 522/522 [00:00<00:00, 656.62it/s]\n"
     ]
    },
    {
     "name": "stdout",
     "output_type": "stream",
     "text": [
      "Epoch 3/20: Train Loss: 0.4811, Train Acc: 0.8714, Val Loss: 0.2900, Val Acc: 0.9281\n",
      "New best model with validation accuracy: 0.9281\n"
     ]
    },
    {
     "name": "stderr",
     "output_type": "stream",
     "text": [
      "Epoch 4/20 [Train]: 100%|██████████| 1217/1217 [00:05<00:00, 241.15it/s]\n",
      "Epoch 4/20 [Val]: 100%|██████████| 522/522 [00:00<00:00, 662.52it/s]\n"
     ]
    },
    {
     "name": "stdout",
     "output_type": "stream",
     "text": [
      "Epoch 4/20: Train Loss: 0.3267, Train Acc: 0.9153, Val Loss: 0.2041, Val Acc: 0.9474\n",
      "New best model with validation accuracy: 0.9474\n"
     ]
    },
    {
     "name": "stderr",
     "output_type": "stream",
     "text": [
      "Epoch 5/20 [Train]: 100%|██████████| 1217/1217 [00:05<00:00, 242.63it/s]\n",
      "Epoch 5/20 [Val]: 100%|██████████| 522/522 [00:00<00:00, 629.00it/s]\n"
     ]
    },
    {
     "name": "stdout",
     "output_type": "stream",
     "text": [
      "Epoch 5/20: Train Loss: 0.2473, Train Acc: 0.9354, Val Loss: 0.1534, Val Acc: 0.9609\n",
      "New best model with validation accuracy: 0.9609\n"
     ]
    },
    {
     "name": "stderr",
     "output_type": "stream",
     "text": [
      "Epoch 6/20 [Train]: 100%|██████████| 1217/1217 [00:04<00:00, 253.32it/s]\n",
      "Epoch 6/20 [Val]: 100%|██████████| 522/522 [00:00<00:00, 699.94it/s]\n"
     ]
    },
    {
     "name": "stdout",
     "output_type": "stream",
     "text": [
      "Epoch 6/20: Train Loss: 0.1962, Train Acc: 0.9499, Val Loss: 0.1174, Val Acc: 0.9715\n",
      "New best model with validation accuracy: 0.9715\n"
     ]
    },
    {
     "name": "stderr",
     "output_type": "stream",
     "text": [
      "Epoch 7/20 [Train]: 100%|██████████| 1217/1217 [00:05<00:00, 235.74it/s]\n",
      "Epoch 7/20 [Val]: 100%|██████████| 522/522 [00:00<00:00, 702.53it/s]\n"
     ]
    },
    {
     "name": "stdout",
     "output_type": "stream",
     "text": [
      "Epoch 7/20: Train Loss: 0.1612, Train Acc: 0.9596, Val Loss: 0.0929, Val Acc: 0.9766\n",
      "New best model with validation accuracy: 0.9766\n"
     ]
    },
    {
     "name": "stderr",
     "output_type": "stream",
     "text": [
      "Epoch 8/20 [Train]: 100%|██████████| 1217/1217 [00:04<00:00, 271.70it/s]\n",
      "Epoch 8/20 [Val]: 100%|██████████| 522/522 [00:00<00:00, 776.09it/s]\n"
     ]
    },
    {
     "name": "stdout",
     "output_type": "stream",
     "text": [
      "Epoch 8/20: Train Loss: 0.1328, Train Acc: 0.9648, Val Loss: 0.0758, Val Acc: 0.9800\n",
      "New best model with validation accuracy: 0.9800\n"
     ]
    },
    {
     "name": "stderr",
     "output_type": "stream",
     "text": [
      "Epoch 9/20 [Train]: 100%|██████████| 1217/1217 [00:04<00:00, 291.33it/s]\n",
      "Epoch 9/20 [Val]: 100%|██████████| 522/522 [00:00<00:00, 767.97it/s]\n"
     ]
    },
    {
     "name": "stdout",
     "output_type": "stream",
     "text": [
      "Epoch 9/20: Train Loss: 0.1148, Train Acc: 0.9715, Val Loss: 0.0641, Val Acc: 0.9831\n",
      "New best model with validation accuracy: 0.9831\n"
     ]
    },
    {
     "name": "stderr",
     "output_type": "stream",
     "text": [
      "Epoch 10/20 [Train]: 100%|██████████| 1217/1217 [00:04<00:00, 281.21it/s]\n",
      "Epoch 10/20 [Val]: 100%|██████████| 522/522 [00:00<00:00, 749.71it/s]\n"
     ]
    },
    {
     "name": "stdout",
     "output_type": "stream",
     "text": [
      "Epoch 10/20: Train Loss: 0.0979, Train Acc: 0.9747, Val Loss: 0.0536, Val Acc: 0.9845\n",
      "New best model with validation accuracy: 0.9845\n"
     ]
    },
    {
     "name": "stderr",
     "output_type": "stream",
     "text": [
      "Epoch 11/20 [Train]: 100%|██████████| 1217/1217 [00:04<00:00, 295.77it/s]\n",
      "Epoch 11/20 [Val]: 100%|██████████| 522/522 [00:00<00:00, 708.76it/s]\n"
     ]
    },
    {
     "name": "stdout",
     "output_type": "stream",
     "text": [
      "Epoch 11/20: Train Loss: 0.0874, Train Acc: 0.9785, Val Loss: 0.0498, Val Acc: 0.9861\n",
      "New best model with validation accuracy: 0.9861\n"
     ]
    },
    {
     "name": "stderr",
     "output_type": "stream",
     "text": [
      "Epoch 12/20 [Train]: 100%|██████████| 1217/1217 [00:04<00:00, 286.04it/s]\n",
      "Epoch 12/20 [Val]: 100%|██████████| 522/522 [00:00<00:00, 745.46it/s]\n"
     ]
    },
    {
     "name": "stdout",
     "output_type": "stream",
     "text": [
      "Epoch 12/20: Train Loss: 0.0790, Train Acc: 0.9807, Val Loss: 0.0436, Val Acc: 0.9887\n",
      "New best model with validation accuracy: 0.9887\n"
     ]
    },
    {
     "name": "stderr",
     "output_type": "stream",
     "text": [
      "Epoch 13/20 [Train]: 100%|██████████| 1217/1217 [00:04<00:00, 258.41it/s]\n",
      "Epoch 13/20 [Val]: 100%|██████████| 522/522 [00:00<00:00, 703.35it/s]\n"
     ]
    },
    {
     "name": "stdout",
     "output_type": "stream",
     "text": [
      "Epoch 13/20: Train Loss: 0.0674, Train Acc: 0.9832, Val Loss: 0.0380, Val Acc: 0.9889\n",
      "New best model with validation accuracy: 0.9889\n"
     ]
    },
    {
     "name": "stderr",
     "output_type": "stream",
     "text": [
      "Epoch 14/20 [Train]: 100%|██████████| 1217/1217 [00:04<00:00, 290.25it/s]\n",
      "Epoch 14/20 [Val]: 100%|██████████| 522/522 [00:00<00:00, 725.56it/s]\n"
     ]
    },
    {
     "name": "stdout",
     "output_type": "stream",
     "text": [
      "Epoch 14/20: Train Loss: 0.0651, Train Acc: 0.9840, Val Loss: 0.0332, Val Acc: 0.9910\n",
      "New best model with validation accuracy: 0.9910\n"
     ]
    },
    {
     "name": "stderr",
     "output_type": "stream",
     "text": [
      "Epoch 15/20 [Train]: 100%|██████████| 1217/1217 [00:04<00:00, 266.71it/s]\n",
      "Epoch 15/20 [Val]: 100%|██████████| 522/522 [00:00<00:00, 687.21it/s]\n"
     ]
    },
    {
     "name": "stdout",
     "output_type": "stream",
     "text": [
      "Epoch 15/20: Train Loss: 0.0553, Train Acc: 0.9863, Val Loss: 0.0301, Val Acc: 0.9926\n",
      "New best model with validation accuracy: 0.9926\n"
     ]
    },
    {
     "name": "stderr",
     "output_type": "stream",
     "text": [
      "Epoch 16/20 [Train]: 100%|██████████| 1217/1217 [00:04<00:00, 264.99it/s]\n",
      "Epoch 16/20 [Val]: 100%|██████████| 522/522 [00:00<00:00, 762.08it/s]\n"
     ]
    },
    {
     "name": "stdout",
     "output_type": "stream",
     "text": [
      "Epoch 16/20: Train Loss: 0.0509, Train Acc: 0.9884, Val Loss: 0.0260, Val Acc: 0.9939\n",
      "New best model with validation accuracy: 0.9939\n"
     ]
    },
    {
     "name": "stderr",
     "output_type": "stream",
     "text": [
      "Epoch 17/20 [Train]: 100%|██████████| 1217/1217 [00:04<00:00, 286.08it/s]\n",
      "Epoch 17/20 [Val]: 100%|██████████| 522/522 [00:00<00:00, 774.90it/s]\n"
     ]
    },
    {
     "name": "stdout",
     "output_type": "stream",
     "text": [
      "Epoch 17/20: Train Loss: 0.0437, Train Acc: 0.9892, Val Loss: 0.0238, Val Acc: 0.9935\n"
     ]
    },
    {
     "name": "stderr",
     "output_type": "stream",
     "text": [
      "Epoch 18/20 [Train]: 100%|██████████| 1217/1217 [00:04<00:00, 279.11it/s]\n",
      "Epoch 18/20 [Val]: 100%|██████████| 522/522 [00:00<00:00, 638.73it/s]\n"
     ]
    },
    {
     "name": "stdout",
     "output_type": "stream",
     "text": [
      "Epoch 18/20: Train Loss: 0.0425, Train Acc: 0.9886, Val Loss: 0.0237, Val Acc: 0.9941\n",
      "New best model with validation accuracy: 0.9941\n"
     ]
    },
    {
     "name": "stderr",
     "output_type": "stream",
     "text": [
      "Epoch 19/20 [Train]: 100%|██████████| 1217/1217 [00:05<00:00, 222.44it/s]\n",
      "Epoch 19/20 [Val]: 100%|██████████| 522/522 [00:00<00:00, 859.05it/s]\n"
     ]
    },
    {
     "name": "stdout",
     "output_type": "stream",
     "text": [
      "Epoch 19/20: Train Loss: 0.0399, Train Acc: 0.9897, Val Loss: 0.0215, Val Acc: 0.9939\n"
     ]
    },
    {
     "name": "stderr",
     "output_type": "stream",
     "text": [
      "Epoch 20/20 [Train]: 100%|██████████| 1217/1217 [00:04<00:00, 282.83it/s]\n",
      "Epoch 20/20 [Val]: 100%|██████████| 522/522 [00:00<00:00, 656.81it/s]"
     ]
    },
    {
     "name": "stdout",
     "output_type": "stream",
     "text": [
      "Epoch 20/20: Train Loss: 0.0358, Train Acc: 0.9913, Val Loss: 0.0219, Val Acc: 0.9939\n"
     ]
    },
    {
     "name": "stderr",
     "output_type": "stream",
     "text": [
      "\n"
     ]
    }
   ],
   "source": [
    "num_epochs = 20\n",
    "\n",
    "# Train the model\n",
    "trained_model, history = train_model(model, train_loader, val_loader, criterion, optimizer, num_epochs)\n"
   ]
  },
  {
   "cell_type": "code",
   "execution_count": 20,
   "id": "8fce2463",
   "metadata": {},
   "outputs": [
    {
     "name": "stdout",
     "output_type": "stream",
     "text": [
      "Model training completed and saved!\n"
     ]
    }
   ],
   "source": [
    "os.makedirs(\"../models\", exist_ok=True)\n",
    "torch.save({\n",
    "    'model_state_dict': trained_model.state_dict(),\n",
    "    'optimizer_state_dict': optimizer.state_dict(),\n",
    "    'history': history,\n",
    "    'class_mapping': unified_class_to_idx\n",
    "}, \"../models/gesture_recognition_model.pth\")\n",
    "\n",
    "print(\"Model training completed and saved!\")\n"
   ]
  },
  {
   "cell_type": "code",
   "execution_count": 21,
   "id": "92cb7be7",
   "metadata": {},
   "outputs": [
    {
     "data": {
      "image/png": "[encoded data removed]",
      "text/plain": [
       "<Figure size 1200x500 with 2 Axes>"
      ]
     },
     "metadata": {},
     "output_type": "display_data"
    }
   ],
   "source": [
    "plt.figure(figsize=(12, 5))\n",
    "\n",
    "# Plot Loss\n",
    "plt.subplot(1, 2, 1)\n",
    "plt.plot(history['train_loss'], label='Training Loss', marker='o')\n",
    "plt.plot(history['val_loss'], label='Validation Loss', marker='s')\n",
    "plt.title('Loss Curves')\n",
    "plt.xlabel('Epochs')\n",
    "plt.ylabel('Loss')\n",
    "plt.legend()\n",
    "plt.grid(True, linestyle='--', alpha=0.7)\n",
    "\n",
    "# Plot Accuracy\n",
    "plt.subplot(1, 2, 2)\n",
    "plt.plot(history['train_acc'], label='Training Accuracy', marker='o')\n",
    "plt.plot(history['val_acc'], label='Validation Accuracy', marker='s')\n",
    "plt.title('Accuracy Curves')\n",
    "plt.xlabel('Epochs')\n",
    "plt.ylabel('Accuracy')\n",
    "plt.legend()\n",
    "plt.grid(True, linestyle='--', alpha=0.7)\n",
    "\n",
    "plt.tight_layout()\n",
    "plt.savefig('../models/learning_curves.png', dpi=300, bbox_inches='tight')\n",
    "plt.show()\n"
   ]
  },
  {
   "cell_type": "code",
   "execution_count": 22,
   "id": "3c3d7930",
   "metadata": {},
   "outputs": [
    {
     "data": {
      "image/png": "[encoded data removed]",
      "text/plain": [
       "<Figure size 1200x500 with 2 Axes>"
      ]
     },
     "metadata": {},
     "output_type": "display_data"
    }
   ],
   "source": [
    "plt.figure(figsize=(12, 5))\n",
    "\n",
    "# Loss Gap\n",
    "plt.subplot(1, 2, 1)\n",
    "loss_gap = [val - train for train, val in zip(history['train_loss'], history['val_loss'])]\n",
    "plt.plot(loss_gap, marker='o', color='purple')\n",
    "plt.axhline(y=0, color='r', linestyle='--', alpha=0.7)\n",
    "plt.title('Validation Loss - Training Loss')\n",
    "plt.xlabel('Epochs')\n",
    "plt.ylabel('Gap')\n",
    "plt.grid(True, linestyle='--', alpha=0.7)\n",
    "\n",
    "# Accuracy Gap\n",
    "plt.subplot(1, 2, 2)\n",
    "acc_gap = [val - train for train, val in zip(history['train_acc'], history['val_acc'])]\n",
    "plt.plot(acc_gap, marker='o', color='green')\n",
    "plt.axhline(y=0, color='r', linestyle='--', alpha=0.7)\n",
    "plt.title('Validation Accuracy - Training Accuracy')\n",
    "plt.xlabel('Epochs')\n",
    "plt.ylabel('Gap')\n",
    "plt.grid(True, linestyle='--', alpha=0.7)\n",
    "\n",
    "plt.tight_layout()\n",
    "plt.savefig('../models/metric_gaps.png', dpi=300, bbox_inches='tight')\n",
    "plt.show()\n"
   ]
  },
  {
   "cell_type": "code",
   "execution_count": 9,
   "id": "dbf8fc49",
   "metadata": {},
   "outputs": [],
   "source": [
    "def inference_with_webcam():\n",
    "    \n",
    "    model_path = \"../models/gesture_recognition_model.pth\"\n",
    "    checkpoint = torch.load(model_path)\n",
    "    \n",
    "    # Get class mapping\n",
    "    class_mapping = checkpoint['class_mapping']\n",
    "    # Create reverse mapping (index to class name)\n",
    "    idx_to_class = {v: k for k, v in class_mapping.items()}\n",
    "    \n",
    "   \n",
    "    num_classes = len(class_mapping)\n",
    "    model = GestureCNN(num_classes=num_classes, grid_size=7)\n",
    "    model.load_state_dict(checkpoint['model_state_dict'])\n",
    "    model.to(device)\n",
    "    model.eval()\n",
    "    \n",
    "   \n",
    "    mp_hands = mp.solutions.hands\n",
    "    mp_drawing = mp.solutions.drawing_utils\n",
    "    hands = mp_hands.Hands(\n",
    "        static_image_mode=True,\n",
    "        max_num_hands=1,\n",
    "        min_detection_confidence=0.9,\n",
    "        min_tracking_confidence=0.7\n",
    "    )\n",
    "    \n",
    "  \n",
    "    cap = cv2.VideoCapture(0)\n",
    "    \n",
    "\n",
    "    last_spoken_text = \"\"\n",
    "    prediction_history = []\n",
    "    smoothing_window = 5\n",
    "    \n",
    "    print(\"Press 'q' to quit\")\n",
    "    \n",
    "    while cap.isOpened():\n",
    "        success, image = cap.read()\n",
    "        if not success:\n",
    "            print(\"Failed to capture image from webcam.\")\n",
    "            break\n",
    "            \n",
    "        image = cv2.flip(image, 1)\n",
    "        \n",
    "        display_image = image.copy()\n",
    "        \n",
    "        image_rgb = cv2.cvtColor(image, cv2.COLOR_BGR2RGB)\n",
    "\n",
    "        results = hands.process(image_rgb)\n",
    "        \n",
    "        if results.multi_hand_landmarks:\n",
    "            for hand_landmarks in results.multi_hand_landmarks:\n",
    "                # Draw landmarks\n",
    "                mp_drawing.draw_landmarks(\n",
    "                    display_image, \n",
    "                    hand_landmarks, \n",
    "                    mp_hands.HAND_CONNECTIONS,\n",
    "                    mp_drawing.DrawingSpec(color=(0, 255, 0), thickness=2, circle_radius=4),\n",
    "                    mp_drawing.DrawingSpec(color=(255, 0, 0), thickness=2)\n",
    "                )\n",
    "                \n",
    "                x_coordinates = [landmark.x for landmark in hand_landmarks.landmark]\n",
    "                y_coordinates = [landmark.y for landmark in hand_landmarks.landmark]\n",
    "                \n",
    "                x_min, x_max = min(x_coordinates), max(x_coordinates)\n",
    "                y_min, y_max = min(y_coordinates), max(y_coordinates)\n",
    "                \n",
    "                padding = 0.05\n",
    "                x_min = max(0, x_min - padding)\n",
    "                y_min = max(0, y_min - padding)\n",
    "                x_max = min(1, x_max + padding)\n",
    "                y_max = min(1, y_max + padding)\n",
    "                \n",
    "                h, w, c = display_image.shape\n",
    "                x_min, y_min = int(x_min * w), int(y_min * h)\n",
    "                x_max, y_max = int(x_max * w), int(y_max * h)\n",
    "\n",
    "                cv2.rectangle(display_image, (x_min, y_min), (x_max, y_max), (0, 255, 255), 2)\n",
    "                \n",
    "                landmarks = []\n",
    "                for lm in hand_landmarks.landmark:\n",
    "                    landmarks.extend([lm.x, lm.y, lm.z])\n",
    "                \n",
    "  \n",
    "                landmarks_array = np.array(landmarks)\n",
    "                reshaped_landmarks = reshape_landmarks_for_cnn(landmarks_array)\n",
    "                \n",
    "                with torch.no_grad():\n",
    "                    input_tensor = torch.tensor(reshaped_landmarks, dtype=torch.float32).unsqueeze(0).to(device)\n",
    "                    outputs = model(input_tensor)\n",
    "                    probabilities = torch.nn.functional.softmax(outputs, dim=1)\n",
    "                    confidence, predicted = torch.max(probabilities, 1)\n",
    "                    predicted_class_idx = predicted.item()\n",
    "                    confidence_value = confidence.item()\n",
    "                    \n",
    "\n",
    "                    if predicted_class_idx in idx_to_class:\n",
    "                        class_name = idx_to_class[predicted_class_idx]\n",
    "                        if class_name.startswith(\"gesture_\"):\n",
    "                            class_name = class_name[8:]  # Remove \"gesture_\" prefix\n",
    "\n",
    "                        prediction_history.append(class_name)\n",
    "                        if len(prediction_history) > smoothing_window:\n",
    "                            prediction_history.pop(0)\n",
    "\n",
    "                        from collections import Counter\n",
    "                        if len(prediction_history) >= 3:  \n",
    "                            most_common = Counter(prediction_history).most_common(1)[0][0]\n",
    "                        else:\n",
    "                            most_common = class_name\n",
    "             \n",
    "                        cv2.putText(\n",
    "                            display_image, \n",
    "                            f\"Prediction: {most_common}\", \n",
    "                            (x_min, y_min - 10), \n",
    "                            cv2.FONT_HERSHEY_SIMPLEX, \n",
    "                            0.8, \n",
    "                            (0, 255, 0), \n",
    "                            2\n",
    "                        )\n",
    "                        \n",
    "                        cv2.putText(\n",
    "                            display_image, \n",
    "                            f\"Confidence: {confidence_value:.2f}\", \n",
    "                            (x_min, y_max + 25), \n",
    "                            cv2.FONT_HERSHEY_SIMPLEX, \n",
    "                            0.8, \n",
    "                            (0, 255, 0), \n",
    "                            2\n",
    "                        )\n",
    "                        \n",
    "                        if most_common != last_spoken_text and len(prediction_history) >= smoothing_window:\n",
    "                            if prediction_history.count(most_common) >= smoothing_window // 2:\n",
    "                                last_spoken_text = most_common\n",
    "                                print(f\"Detected: {most_common} (Confidence: {confidence_value:.2f})\")\n",
    "\n",
    "        cv2.imshow('Hand Gesture Recognition', display_image)\n",
    "\n",
    "        if cv2.waitKey(5) & 0xFF == ord('q'):\n",
    "            break\n",
    "    \n",
    "    hands.close()\n",
    "    cap.release()\n",
    "    cv2.destroyAllWindows()\n"
   ]
  },
  {
   "cell_type": "code",
   "execution_count": 13,
   "id": "662f8369",
   "metadata": {},
   "outputs": [
    {
     "name": "stdout",
     "output_type": "stream",
     "text": [
      "Press 'q' to quit\n"
     ]
    },
    {
     "ename": "AttributeError",
     "evalue": "module 'google.protobuf.message_factory' has no attribute 'GetMessageClass'",
     "output_type": "error",
     "traceback": [
      "\u001b[1;31m---------------------------------------------------------------------------\u001b[0m",
      "\u001b[1;31mAttributeError\u001b[0m                            Traceback (most recent call last)",
      "Cell \u001b[1;32mIn[13], line 1\u001b[0m\n\u001b[1;32m----> 1\u001b[0m \u001b[43minference_with_webcam\u001b[49m\u001b[43m(\u001b[49m\u001b[43m)\u001b[49m\n",
      "Cell \u001b[1;32mIn[9], line 50\u001b[0m, in \u001b[0;36minference_with_webcam\u001b[1;34m()\u001b[0m\n\u001b[0;32m     46\u001b[0m display_image \u001b[38;5;241m=\u001b[39m image\u001b[38;5;241m.\u001b[39mcopy()\n\u001b[0;32m     48\u001b[0m image_rgb \u001b[38;5;241m=\u001b[39m cv2\u001b[38;5;241m.\u001b[39mcvtColor(image, cv2\u001b[38;5;241m.\u001b[39mCOLOR_BGR2RGB)\n\u001b[1;32m---> 50\u001b[0m results \u001b[38;5;241m=\u001b[39m \u001b[43mhands\u001b[49m\u001b[38;5;241;43m.\u001b[39;49m\u001b[43mprocess\u001b[49m\u001b[43m(\u001b[49m\u001b[43mimage_rgb\u001b[49m\u001b[43m)\u001b[49m\n\u001b[0;32m     52\u001b[0m \u001b[38;5;28;01mif\u001b[39;00m results\u001b[38;5;241m.\u001b[39mmulti_hand_landmarks:\n\u001b[0;32m     53\u001b[0m     \u001b[38;5;28;01mfor\u001b[39;00m hand_landmarks \u001b[38;5;129;01min\u001b[39;00m results\u001b[38;5;241m.\u001b[39mmulti_hand_landmarks:\n\u001b[0;32m     54\u001b[0m         \u001b[38;5;66;03m# Draw landmarks\u001b[39;00m\n",
      "File \u001b[1;32mc:\\Users\\ADARSH S\\miniconda3\\envs\\project_env\\lib\\site-packages\\mediapipe\\python\\solutions\\hands.py:153\u001b[0m, in \u001b[0;36mHands.process\u001b[1;34m(self, image)\u001b[0m\n\u001b[0;32m    132\u001b[0m \u001b[38;5;28;01mdef\u001b[39;00m\u001b[38;5;250m \u001b[39m\u001b[38;5;21mprocess\u001b[39m(\u001b[38;5;28mself\u001b[39m, image: np\u001b[38;5;241m.\u001b[39mndarray) \u001b[38;5;241m-\u001b[39m\u001b[38;5;241m>\u001b[39m NamedTuple:\n\u001b[0;32m    133\u001b[0m \u001b[38;5;250m  \u001b[39m\u001b[38;5;124;03m\"\"\"Processes an RGB image and returns the hand landmarks and handedness of each detected hand.\u001b[39;00m\n\u001b[0;32m    134\u001b[0m \n\u001b[0;32m    135\u001b[0m \u001b[38;5;124;03m  Args:\u001b[39;00m\n\u001b[1;32m   (...)\u001b[0m\n\u001b[0;32m    150\u001b[0m \u001b[38;5;124;03m         right hand) of the detected hand.\u001b[39;00m\n\u001b[0;32m    151\u001b[0m \u001b[38;5;124;03m  \"\"\"\u001b[39;00m\n\u001b[1;32m--> 153\u001b[0m   \u001b[38;5;28;01mreturn\u001b[39;00m \u001b[38;5;28;43msuper\u001b[39;49m\u001b[43m(\u001b[49m\u001b[43m)\u001b[49m\u001b[38;5;241;43m.\u001b[39;49m\u001b[43mprocess\u001b[49m\u001b[43m(\u001b[49m\u001b[43minput_data\u001b[49m\u001b[38;5;241;43m=\u001b[39;49m\u001b[43m{\u001b[49m\u001b[38;5;124;43m'\u001b[39;49m\u001b[38;5;124;43mimage\u001b[39;49m\u001b[38;5;124;43m'\u001b[39;49m\u001b[43m:\u001b[49m\u001b[43m \u001b[49m\u001b[43mimage\u001b[49m\u001b[43m}\u001b[49m\u001b[43m)\u001b[49m\n",
      "File \u001b[1;32mc:\\Users\\ADARSH S\\miniconda3\\envs\\project_env\\lib\\site-packages\\mediapipe\\python\\solution_base.py:351\u001b[0m, in \u001b[0;36mSolutionBase.process\u001b[1;34m(self, input_data)\u001b[0m\n\u001b[0;32m    347\u001b[0m \u001b[38;5;28;01mfor\u001b[39;00m stream_name \u001b[38;5;129;01min\u001b[39;00m \u001b[38;5;28mself\u001b[39m\u001b[38;5;241m.\u001b[39m_output_stream_type_info\u001b[38;5;241m.\u001b[39mkeys():\n\u001b[0;32m    348\u001b[0m   \u001b[38;5;28;01mif\u001b[39;00m stream_name \u001b[38;5;129;01min\u001b[39;00m \u001b[38;5;28mself\u001b[39m\u001b[38;5;241m.\u001b[39m_graph_outputs:\n\u001b[0;32m    349\u001b[0m     \u001b[38;5;28msetattr\u001b[39m(\n\u001b[0;32m    350\u001b[0m         solution_outputs, stream_name,\n\u001b[1;32m--> 351\u001b[0m         \u001b[38;5;28;43mself\u001b[39;49m\u001b[38;5;241;43m.\u001b[39;49m\u001b[43m_get_packet_content\u001b[49m\u001b[43m(\u001b[49m\u001b[38;5;28;43mself\u001b[39;49m\u001b[38;5;241;43m.\u001b[39;49m\u001b[43m_output_stream_type_info\u001b[49m\u001b[43m[\u001b[49m\u001b[43mstream_name\u001b[49m\u001b[43m]\u001b[49m\u001b[43m,\u001b[49m\n\u001b[0;32m    352\u001b[0m \u001b[43m                                 \u001b[49m\u001b[38;5;28;43mself\u001b[39;49m\u001b[38;5;241;43m.\u001b[39;49m\u001b[43m_graph_outputs\u001b[49m\u001b[43m[\u001b[49m\u001b[43mstream_name\u001b[49m\u001b[43m]\u001b[49m\u001b[43m)\u001b[49m)\n\u001b[0;32m    353\u001b[0m   \u001b[38;5;28;01melse\u001b[39;00m:\n\u001b[0;32m    354\u001b[0m     \u001b[38;5;28msetattr\u001b[39m(solution_outputs, stream_name, \u001b[38;5;28;01mNone\u001b[39;00m)\n",
      "File \u001b[1;32mc:\\Users\\ADARSH S\\miniconda3\\envs\\project_env\\lib\\site-packages\\mediapipe\\python\\solution_base.py:595\u001b[0m, in \u001b[0;36mSolutionBase._get_packet_content\u001b[1;34m(self, packet_data_type, output_packet)\u001b[0m\n\u001b[0;32m    592\u001b[0m   \u001b[38;5;28;01mreturn\u001b[39;00m \u001b[38;5;28mgetattr\u001b[39m(packet_getter, \u001b[38;5;124m'\u001b[39m\u001b[38;5;124mget_\u001b[39m\u001b[38;5;124m'\u001b[39m \u001b[38;5;241m+\u001b[39m\n\u001b[0;32m    593\u001b[0m                  packet_data_type\u001b[38;5;241m.\u001b[39mvalue)(output_packet)\u001b[38;5;241m.\u001b[39mnumpy_view()\n\u001b[0;32m    594\u001b[0m \u001b[38;5;28;01melse\u001b[39;00m:\n\u001b[1;32m--> 595\u001b[0m   \u001b[38;5;28;01mreturn\u001b[39;00m \u001b[38;5;28;43mgetattr\u001b[39;49m\u001b[43m(\u001b[49m\u001b[43mpacket_getter\u001b[49m\u001b[43m,\u001b[49m\u001b[43m \u001b[49m\u001b[38;5;124;43m'\u001b[39;49m\u001b[38;5;124;43mget_\u001b[39;49m\u001b[38;5;124;43m'\u001b[39;49m\u001b[43m \u001b[49m\u001b[38;5;241;43m+\u001b[39;49m\u001b[43m \u001b[49m\u001b[43mpacket_data_type\u001b[49m\u001b[38;5;241;43m.\u001b[39;49m\u001b[43mvalue\u001b[49m\u001b[43m)\u001b[49m\u001b[43m(\u001b[49m\n\u001b[0;32m    596\u001b[0m \u001b[43m      \u001b[49m\u001b[43moutput_packet\u001b[49m\u001b[43m)\u001b[49m\n",
      "File \u001b[1;32mc:\\Users\\ADARSH S\\miniconda3\\envs\\project_env\\lib\\site-packages\\mediapipe\\python\\packet_getter.py:111\u001b[0m, in \u001b[0;36mget_proto_list\u001b[1;34m(packet)\u001b[0m\n\u001b[0;32m    108\u001b[0m \u001b[38;5;28;01mexcept\u001b[39;00m \u001b[38;5;167;01mKeyError\u001b[39;00m:\n\u001b[0;32m    109\u001b[0m   \u001b[38;5;28;01mraise\u001b[39;00m \u001b[38;5;167;01mTypeError\u001b[39;00m(\u001b[38;5;124m'\u001b[39m\u001b[38;5;124mCan not find message descriptor by type name: \u001b[39m\u001b[38;5;132;01m%s\u001b[39;00m\u001b[38;5;124m'\u001b[39m \u001b[38;5;241m%\u001b[39m\n\u001b[0;32m    110\u001b[0m                   proto_type_name)\n\u001b[1;32m--> 111\u001b[0m message_class \u001b[38;5;241m=\u001b[39m \u001b[43mmessage_factory\u001b[49m\u001b[38;5;241;43m.\u001b[39;49m\u001b[43mGetMessageClass\u001b[49m(descriptor)\n\u001b[0;32m    112\u001b[0m \u001b[38;5;66;03m# pylint:disable=protected-access\u001b[39;00m\n\u001b[0;32m    113\u001b[0m serialized_protos \u001b[38;5;241m=\u001b[39m _packet_getter\u001b[38;5;241m.\u001b[39m_get_serialized_proto_list(packet)\n",
      "\u001b[1;31mAttributeError\u001b[0m: module 'google.protobuf.message_factory' has no attribute 'GetMessageClass'"
     ]
    }
   ],
   "source": [
    "inference_with_webcam()"
   ]
  },
  {
   "cell_type": "code",
   "execution_count": null,
   "id": "3cee1941",
   "metadata": {},
   "outputs": [],
   "source": []
  }
 ],
 "metadata": {
  "kernelspec": {
   "display_name": "project_env",
   "language": "python",
   "name": "python3"
  },
  "language_info": {
   "codemirror_mode": {
    "name": "ipython",
    "version": 3
   },
   "file_extension": ".py",
   "mimetype": "text/x-python",
   "name": "python",
   "nbconvert_exporter": "python",
   "pygments_lexer": "ipython3",
   "version": "3.10.17"
  }
 },
 "nbformat": 4,
 "nbformat_minor": 5
}
